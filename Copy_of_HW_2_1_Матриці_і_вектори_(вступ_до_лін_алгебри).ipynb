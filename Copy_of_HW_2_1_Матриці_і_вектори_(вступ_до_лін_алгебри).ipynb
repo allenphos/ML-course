{
  "nbformat": 4,
  "nbformat_minor": 0,
  "metadata": {
    "colab": {
      "provenance": [],
      "include_colab_link": true
    },
    "kernelspec": {
      "name": "python3",
      "display_name": "Python 3"
    },
    "language_info": {
      "name": "python"
    }
  },
  "cells": [
    {
      "cell_type": "markdown",
      "metadata": {
        "id": "view-in-github",
        "colab_type": "text"
      },
      "source": [
        "<a href=\"https://colab.research.google.com/github/allenphos/ML-course/blob/main/Copy_of_HW_2_1_%D0%9C%D0%B0%D1%82%D1%80%D0%B8%D1%86%D1%96_%D1%96_%D0%B2%D0%B5%D0%BA%D1%82%D0%BE%D1%80%D0%B8_(%D0%B2%D1%81%D1%82%D1%83%D0%BF_%D0%B4%D0%BE_%D0%BB%D1%96%D0%BD_%D0%B0%D0%BB%D0%B3%D0%B5%D0%B1%D1%80%D0%B8).ipynb\" target=\"_parent\"><img src=\"https://colab.research.google.com/assets/colab-badge.svg\" alt=\"Open In Colab\"/></a>"
      ]
    },
    {
      "cell_type": "markdown",
      "source": [
        "### Завдання 1: Створення матриць та векторів\n",
        "1. Створіть `numpy` вектор `vector` розмірністю 10 з випадковими дійсними значеннями в діапазоні від 0 до 1. Можна скористатись двома альтернативними варіантами:\n",
        "  1. Генерація випадкових чисел з модулем [`random.uniform`](https://docs.python.org/3/library/random.html).\n",
        "  2. Створення вектора з допомогою метода `numpy` [np.random.rand](https://numpy.org/doc/stable/reference/random/generated/numpy.random.rand.html)\n",
        "\n",
        "2. Створіть матрицю `matrix` типу `numpy.array` розмірності 3x3 з наступними значеннями\n",
        "\n",
        "  $$\n",
        "  matrix = \\begin{bmatrix}\n",
        "  11 & 14 & 17 \\\\\n",
        "  20 & 23 & 26 \\\\\n",
        "  29 & 32 & 35\n",
        "  \\end{bmatrix}\n",
        "  $$\n",
        "\n",
        "  будь-яким відомими Вам способом.\n",
        "\n",
        "Виведіть на екран вектор і матрицю, а також їх розміри.\n"
      ],
      "metadata": {
        "id": "efug1V4CM0lT"
      }
    },
    {
      "cell_type": "code",
      "source": [
        "import numpy as np\n",
        "matrix = np.array([[11, 14, 17], [20, 23, 26], [29, 32, 35]])\n",
        "vector = np.random.rand(10)\n",
        "display(matrix, vector)\n",
        "matrix.shape, vector.shape"
      ],
      "metadata": {
        "id": "jxA_lG2_VIMe",
        "colab": {
          "base_uri": "https://localhost:8080/",
          "height": 121
        },
        "outputId": "fc54c86a-6a90-4afb-8716-af73683e8a96"
      },
      "execution_count": 1,
      "outputs": [
        {
          "output_type": "display_data",
          "data": {
            "text/plain": [
              "array([[11, 14, 17],\n",
              "       [20, 23, 26],\n",
              "       [29, 32, 35]])"
            ]
          },
          "metadata": {}
        },
        {
          "output_type": "display_data",
          "data": {
            "text/plain": [
              "array([0.49612213, 0.42588261, 0.52604755, 0.43415726, 0.64590643,\n",
              "       0.11197701, 0.5162557 , 0.59292453, 0.12004943, 0.43073021])"
            ]
          },
          "metadata": {}
        },
        {
          "output_type": "execute_result",
          "data": {
            "text/plain": [
              "((3, 3), (10,))"
            ]
          },
          "metadata": {},
          "execution_count": 1
        }
      ]
    },
    {
      "cell_type": "markdown",
      "source": [
        "\n",
        "### Завдання 2: Операції над векторами та матрицями\n",
        "Виконайте кожну з зазначених операцій над зазначеними оʼєктами і виведіть результат на екран:\n",
        "1. Додайте до кожного значення вектора `vector` число 10 і округліть кожне значення до 2 знаків після коми без використання циклів.\n",
        "2. Помножте кожен елемент матриці з першого завдання на 2 без використання циклів.\n",
        "3. Створіть новий вектор, який містить квадрат кожного `vector` без циклів.\n"
      ],
      "metadata": {
        "id": "TSJ1P4OuOVe2"
      }
    },
    {
      "cell_type": "code",
      "source": [
        "vector = np.round(vector + 10, 2)\n",
        "matrix = matrix * 2\n",
        "vector_square = vector ** 2\n",
        "\n",
        "print(\"Новий vector:\", vector, sep=\"\\n\")\n",
        "print(\"Множення matrix на 2:\", matrix, sep=\"\\n\")\n",
        "print(\"вектор квадратів vector_square:\", vector_square, sep=\"\\n\")"
      ],
      "metadata": {
        "id": "nAAojtyUVJXN",
        "colab": {
          "base_uri": "https://localhost:8080/"
        },
        "outputId": "fe7ac190-ac17-429d-d6e9-1f09e2daaeb4"
      },
      "execution_count": 2,
      "outputs": [
        {
          "output_type": "stream",
          "name": "stdout",
          "text": [
            "Новий vector:\n",
            "[10.5  10.43 10.53 10.43 10.65 10.11 10.52 10.59 10.12 10.43]\n",
            "Множення matrix на 2:\n",
            "[[22 28 34]\n",
            " [40 46 52]\n",
            " [58 64 70]]\n",
            "вектор квадратів vector_square:\n",
            "[110.25   108.7849 110.8809 108.7849 113.4225 102.2121 110.6704 112.1481\n",
            " 102.4144 108.7849]\n"
          ]
        }
      ]
    },
    {
      "cell_type": "markdown",
      "source": [
        "\n",
        "### Завдання 3: Множення матриць\n",
        "1. Задані дві матриці `A` і `B`розмірностями 3x2 та 2х3. Виконайте їхнє множення, щоб отримати матрицю 2x2. Виведіть результуючу матрицю `result_matrix` на екран.\n",
        "\n",
        "2. Заданий вектор `C` розмірністю 2х1. Подумайте спочатку, яку розмірність Ви отрмаєте, коли домножите `result_matrix` на вектор `C` і який результат буде. А потім виконайте множення і виведіть результат на екран.\n",
        "\n",
        "3. Задана матриця `D` розмірністю 2х2. Подумайте спочатку, яку розмірність Ви отрмаєте, коли домножите `result_matrix` на матрицю `D` і який результат буде. А потім виконайте множення і виведіть результат на екран."
      ],
      "metadata": {
        "id": "u6RvWVfhPy-k"
      }
    },
    {
      "cell_type": "code",
      "source": [
        "A = np.array(\n",
        "    [[0.18, 0.53],\n",
        "     [0.75, 0.47],\n",
        "     [0.35, 0.21]])\n",
        "\n",
        "B = np.array(\n",
        "    [[0.17, 0.58, 0.75],\n",
        "     [0.38, 0.11, 0.15]])\n",
        "\n",
        "C = np.array([[0], [1]])\n",
        "\n",
        "D = np.array([[0,1], [1,0]])\n",
        "\n",
        "display(A, B, C, D)"
      ],
      "metadata": {
        "id": "RwXfPzlbSJ44",
        "colab": {
          "base_uri": "https://localhost:8080/",
          "height": 173
        },
        "outputId": "593da840-879d-463f-d1f7-475136bd99ea"
      },
      "execution_count": 3,
      "outputs": [
        {
          "output_type": "display_data",
          "data": {
            "text/plain": [
              "array([[0.18, 0.53],\n",
              "       [0.75, 0.47],\n",
              "       [0.35, 0.21]])"
            ]
          },
          "metadata": {}
        },
        {
          "output_type": "display_data",
          "data": {
            "text/plain": [
              "array([[0.17, 0.58, 0.75],\n",
              "       [0.38, 0.11, 0.15]])"
            ]
          },
          "metadata": {}
        },
        {
          "output_type": "display_data",
          "data": {
            "text/plain": [
              "array([[0],\n",
              "       [1]])"
            ]
          },
          "metadata": {}
        },
        {
          "output_type": "display_data",
          "data": {
            "text/plain": [
              "array([[0, 1],\n",
              "       [1, 0]])"
            ]
          },
          "metadata": {}
        }
      ]
    },
    {
      "cell_type": "code",
      "source": [
        "result_matrix = np.dot(B, A)\n",
        "display(result_matrix)"
      ],
      "metadata": {
        "colab": {
          "base_uri": "https://localhost:8080/",
          "height": 52
        },
        "id": "bR3rQZEyKRNW",
        "outputId": "d27f07f2-c84f-4a92-a5a6-cebabe830644"
      },
      "execution_count": 4,
      "outputs": [
        {
          "output_type": "display_data",
          "data": {
            "text/plain": [
              "array([[0.7281, 0.5202],\n",
              "       [0.2034, 0.2846]])"
            ]
          },
          "metadata": {}
        }
      ]
    },
    {
      "cell_type": "markdown",
      "source": [
        "Можна отримати 2х2 матрицю, тільки якщо B помножити на A, бо mxn * nxp = mxp"
      ],
      "metadata": {
        "id": "Ax2pE_l_H9XR"
      }
    },
    {
      "cell_type": "code",
      "source": [
        "matrix_C = np.dot(result_matrix, C)\n",
        "matrix_C"
      ],
      "metadata": {
        "colab": {
          "base_uri": "https://localhost:8080/"
        },
        "id": "DdRQg8VlITAb",
        "outputId": "fd49aaae-8569-4cf2-ad15-f8359bc2d2fb"
      },
      "execution_count": 5,
      "outputs": [
        {
          "output_type": "execute_result",
          "data": {
            "text/plain": [
              "array([[0.5202],\n",
              "       [0.2846]])"
            ]
          },
          "metadata": {},
          "execution_count": 5
        }
      ]
    },
    {
      "cell_type": "markdown",
      "source": [
        "Якцо помножити матрицю розмірністю 2x2 на вектор 2x1, то вийде 2х1"
      ],
      "metadata": {
        "id": "9klapgVWJqZK"
      }
    },
    {
      "cell_type": "code",
      "source": [
        "matrix_D = np.dot(result_matrix, D)\n",
        "matrix_D"
      ],
      "metadata": {
        "colab": {
          "base_uri": "https://localhost:8080/"
        },
        "id": "hEiGwg9jJqnr",
        "outputId": "dc0afc87-0969-40bb-906a-df26758e8663"
      },
      "execution_count": 6,
      "outputs": [
        {
          "output_type": "execute_result",
          "data": {
            "text/plain": [
              "array([[0.5202, 0.7281],\n",
              "       [0.2846, 0.2034]])"
            ]
          },
          "metadata": {},
          "execution_count": 6
        }
      ]
    },
    {
      "cell_type": "markdown",
      "source": [
        "D матриця перестановки тому стовпці переставлені місцями"
      ],
      "metadata": {
        "id": "LA0qPckdNPsG"
      }
    },
    {
      "cell_type": "markdown",
      "source": [
        "\n",
        "### Завдання 4: Транспонування матриць\n",
        "1. Транспонуйте `result_matrix`.\n",
        "2. Зробіть транспонування вектора `vector` і виведіть форму нової структури. Чи бачите ви зміну?\n",
        "3. Використайте операцію `numpy.expand_dims` над вектором `vector` з аргументом axis=1. Запишіть отриманий результат в змінну `column_vector` і виведіть на екран. Порівняйте з `vector`.\n",
        "4. Зробіть транспонування `column_vector`, виведіть результат на екран разом з розмірностями отриманої структури.\n",
        "\n",
        "\n"
      ],
      "metadata": {
        "id": "wohp0_cxSGpl"
      }
    },
    {
      "cell_type": "code",
      "source": [
        "t_result_matrix = result_matrix.T\n",
        "t_vector = vector.T\n",
        "\n",
        "print(\"Транспонування result_matrix:\", t_result_matrix, t_result_matrix.shape, sep=\"\\n\")\n",
        "print(\"Транспонування vector:\", t_vector, t_vector.shape, sep=\"\\n\")"
      ],
      "metadata": {
        "id": "4hFcq1baVLii",
        "colab": {
          "base_uri": "https://localhost:8080/"
        },
        "outputId": "66cd5e60-da6a-4df5-90cc-af429d84b152"
      },
      "execution_count": 7,
      "outputs": [
        {
          "output_type": "stream",
          "name": "stdout",
          "text": [
            "Транспонування result_matrix:\n",
            "[[0.7281 0.2034]\n",
            " [0.5202 0.2846]]\n",
            "(2, 2)\n",
            "Транспонування vector:\n",
            "[10.5  10.43 10.53 10.43 10.65 10.11 10.52 10.59 10.12 10.43]\n",
            "(10,)\n"
          ]
        }
      ]
    },
    {
      "cell_type": "markdown",
      "source": [
        "Одномірний вектор не змінює форму під час транспонування"
      ],
      "metadata": {
        "id": "ZYQhP2WoP7ue"
      }
    },
    {
      "cell_type": "code",
      "source": [
        "column_vector = np.expand_dims(vector, axis=1)\n",
        "\n",
        "print(\"column_vector:\", column_vector, column_vector.shape, sep=\"\\n\")\n",
        "print(\"vector:\", vector, vector.shape, sep=\"\\n\")"
      ],
      "metadata": {
        "colab": {
          "base_uri": "https://localhost:8080/"
        },
        "id": "6fKYMyDYL57t",
        "outputId": "7eb8c56e-e034-4e33-cf16-16433e2083ae"
      },
      "execution_count": 8,
      "outputs": [
        {
          "output_type": "stream",
          "name": "stdout",
          "text": [
            "column_vector:\n",
            "[[10.5 ]\n",
            " [10.43]\n",
            " [10.53]\n",
            " [10.43]\n",
            " [10.65]\n",
            " [10.11]\n",
            " [10.52]\n",
            " [10.59]\n",
            " [10.12]\n",
            " [10.43]]\n",
            "(10, 1)\n",
            "vector:\n",
            "[10.5  10.43 10.53 10.43 10.65 10.11 10.52 10.59 10.12 10.43]\n",
            "(10,)\n"
          ]
        }
      ]
    },
    {
      "cell_type": "markdown",
      "source": [
        "expand_dims додає новий вимір до вектора, перетворюючи його в стовпець з формою 10х1"
      ],
      "metadata": {
        "id": "WN29HQsVQR-4"
      }
    },
    {
      "cell_type": "code",
      "source": [
        "# Порівняння норм векторів\n",
        "norm1 = np.linalg.norm(vector)\n",
        "norm2 = np.linalg.norm(column_vector)\n",
        "print(\"Норма вектора 1:\", norm1)\n",
        "print(\"Норма вектора 2:\", norm2)\n",
        "print(\"Чи вектори мають однакову норму:\", norm1 == norm2)"
      ],
      "metadata": {
        "colab": {
          "base_uri": "https://localhost:8080/"
        },
        "id": "yhyxO5atScuK",
        "outputId": "f8108f3c-1172-461c-f8db-5aa61d7f8153"
      },
      "execution_count": 18,
      "outputs": [
        {
          "output_type": "stream",
          "name": "stdout",
          "text": [
            "Норма вектора 1: 32.99019702881448\n",
            "Норма вектора 2: 32.99019702881448\n",
            "Вектори мають однакову норму: True\n"
          ]
        }
      ]
    },
    {
      "cell_type": "code",
      "source": [
        "t_column_vector = column_vector.T\n",
        "\n",
        "print(\"Транспонований вектор column_vector:\", t_column_vector, t_column_vector.shape, sep=\"\\n\")"
      ],
      "metadata": {
        "colab": {
          "base_uri": "https://localhost:8080/"
        },
        "id": "XbWaiUsNL6jL",
        "outputId": "c1d06616-6418-49e8-e890-7f1bb66cdce9"
      },
      "execution_count": 9,
      "outputs": [
        {
          "output_type": "stream",
          "name": "stdout",
          "text": [
            "Транспонований вектор column_vector:\n",
            "[[10.5  10.43 10.53 10.43 10.65 10.11 10.52 10.59 10.12 10.43]]\n",
            "(1, 10)\n"
          ]
        }
      ]
    },
    {
      "cell_type": "code",
      "source": [
        "# Порівняння норм векторів\n",
        "norm1 = np.linalg.norm(vector)\n",
        "norm2 = np.linalg.norm(t_column_vector)\n",
        "print(\"Норма вектора 1:\", norm1)\n",
        "print(\"Норма вектора 2:\", norm2)\n",
        "print(\"Чи вектори мають однакову норму:\", norm1 == norm2)"
      ],
      "metadata": {
        "colab": {
          "base_uri": "https://localhost:8080/"
        },
        "id": "LofnekDSSi8I",
        "outputId": "6bc665e6-1c56-4fc4-d736-d4012f915804"
      },
      "execution_count": 23,
      "outputs": [
        {
          "output_type": "stream",
          "name": "stdout",
          "text": [
            "Норма вектора 1: 32.99019702881448\n",
            "Норма вектора 2: 32.99019702881448\n",
            "Вектори мають однакову норму: True\n"
          ]
        }
      ]
    }
  ]
}